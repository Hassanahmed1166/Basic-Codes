{
  "nbformat": 4,
  "nbformat_minor": 0,
  "metadata": {
    "colab": {
      "provenance": [],
      "authorship_tag": "ABX9TyOi8K0pcenapRX+b1GxkKI4",
      "include_colab_link": true
    },
    "kernelspec": {
      "name": "python3",
      "display_name": "Python 3"
    },
    "language_info": {
      "name": "python"
    }
  },
  "cells": [
    {
      "cell_type": "markdown",
      "metadata": {
        "id": "view-in-github",
        "colab_type": "text"
      },
      "source": [
        "<a href=\"https://colab.research.google.com/github/ShahzadArshad786/Basic-Codes/blob/main/ML_Assignment_3.ipynb\" target=\"_parent\"><img src=\"https://colab.research.google.com/assets/colab-badge.svg\" alt=\"Open In Colab\"/></a>"
      ]
    },
    {
      "cell_type": "code",
      "execution_count": 57,
      "metadata": {
        "colab": {
          "base_uri": "https://localhost:8080/"
        },
        "id": "SlC5JEjWLAqO",
        "outputId": "61665240-1df6-4607-8c49-dffefe5a322a"
      },
      "outputs": [
        {
          "output_type": "stream",
          "name": "stdout",
          "text": [
            "Original Image Shape: (1280, 814)\n",
            "Resized Image Shape: (4, 4)\n"
          ]
        }
      ],
      "source": [
        "from PIL import Image\n",
        " # Open an image file\n",
        "image_path = \"main.jpg\"\n",
        "original_image = Image.open(image_path)\n",
        "# Display the shape of the original image\n",
        "original_shape = original_image.size\n",
        "print(\"Original Image Shape:\", original_shape)\n",
        "# Define the new size\n",
        "new_size = (4, 4) # Replace width and height with your desired values\n",
        "# Resize the image\n",
        "resized_image = original_image.resize(new_size)\n",
        "# Display the shape of the resized image\n",
        "resized_shape = resized_image.size\n",
        "print(\"Resized Image Shape:\", resized_shape)\n",
        "# Save the resized image (optional)\n",
        "\n",
        "resized_image.save(\"img2.jpeg\")\n",
        "\n",
        "# Display the resized image (optional)\n",
        "resized_image.show()"
      ]
    },
    {
      "cell_type": "code",
      "source": [
        "from PIL import Image\n",
        "import numpy as np\n",
        "import tensorflow as tf\n",
        "import matplotlib.pyplot as plt\n",
        "# Set the params for plotting\n",
        "plt.rc('figure', autolayout=True)\n",
        "plt.rc('image', cmap='magma')\n",
        "# Define the kernel\n",
        "\n",
        "kernel = tf.constant([[-1, -1, -1],\n",
        "[-1, 8, -1],\n",
        "[-1, -1, -1]], dtype=tf.float32)\n",
        "\n",
        "# Add a channel dimension to the kernel\n",
        "kernel = tf.expand_dims(tf.expand_dims(kernel, axis=-1), axis=-1)\n",
        "# Load the image\n",
        "image_path = \"img2.jpeg\"\n",
        "original_image = Image.open(image_path).convert('L') # Convert to grayscale\n",
        "# Convert the image to a NumPy array and cast to float32\n",
        "img_array = np.array(original_image, dtype=np.float32)\n",
        "\n",
        "# Display the original grayscale image, its dimensions, and matrix values\n",
        "plt.figure(figsize=(4, 4))\n",
        "plt.imshow(img_array, cmap='gray')\n",
        "plt.axis('off')\n",
        "plt.title(f\"Original Image\\nDimensions: {img_array.shape}\")\n",
        "plt.show()\n",
        "# Add a batch and channel dimension to the image\n",
        "image = tf.expand_dims(tf.expand_dims(img_array, axis=0), axis=-1)\n",
        "# Convolution layer\n",
        "conv_fn = tf.nn.conv2d\n",
        "image_filter = conv_fn(\n",
        "input=image,\n",
        "filters=kernel,\n",
        "strides=1,\n",
        "padding='SAME',\n",
        ")\n",
        "\n",
        "# Plot the convolved image\n",
        "plt.figure(figsize=(15, 5))\n",
        "plt.subplot(1, 3, 1)\n",
        "plt.imshow(tf.squeeze(image_filter), cmap='gray')\n",
        "plt.axis('off')\n",
        "plt.title('Convolution')\n",
        "plt.show()\n",
        "# Print the matrix values before and after convolution\n",
        "print(\"Original Image Matrix Values:\")\n",
        "print(img_array)\n",
        "print(\"\\nAfter Convolution Matrix Values:\")\n",
        "print(tf.squeeze(image_filter).numpy())\n",
        "\n",
        "\n"
      ],
      "metadata": {
        "id": "_C4wNDZdLs3a",
        "colab": {
          "base_uri": "https://localhost:8080/",
          "height": 1000
        },
        "outputId": "d4a07840-a848-4390-c8fd-1903b00a3109"
      },
      "execution_count": 58,
      "outputs": [
        {
          "output_type": "display_data",
          "data": {
            "text/plain": [
              "<Figure size 400x400 with 1 Axes>"
            ],
            "image/png": "[encoded data removed]"
          },
          "metadata": {}
        },
        {
          "output_type": "display_data",
          "data": {
            "text/plain": [
              "<Figure size 1500x500 with 1 Axes>"
            ],
            "image/png": "[encoded data removed]"
          },
          "metadata": {}
        },
        {
          "output_type": "stream",
          "name": "stdout",
          "text": [
            "Original Image Matrix Values:\n",
            "[[212. 211. 120.  49.]\n",
            " [159. 170. 102.  48.]\n",
            " [122. 147. 107.  73.]\n",
            " [ 98. 128. 105.  83.]]\n",
            "\n",
            "After Convolution Matrix Values:\n",
            "[[1156.  925.  380.  122.]\n",
            " [ 410.  180. -109.  -67.]\n",
            " [ 274.  185.    0.  139.]\n",
            " [ 387.  445.  302.  379.]]\n"
          ]
        }
      ]
    },
    {
      "cell_type": "code",
      "source": [
        "from PIL import Image\n",
        "import numpy as np\n",
        "import tensorflow as tf\n",
        "import matplotlib.pyplot as plt\n",
        "# Set the params for plotting\n",
        "plt.rc('figure', autolayout=True)\n",
        "plt.rc('image', cmap='magma')\n",
        "# Define the kernel\n",
        "kernel = tf.constant([[-1, -1, -1],\n",
        "[-1, 8, -1],\n",
        "[-1, -1, -1]], dtype=tf.float32)\n",
        "# Add a channel dimension to the kernel\n",
        "kernel = tf.expand_dims(tf.expand_dims(kernel, axis=-1), axis=-1)\n",
        "# Load the image\n",
        "image_path = \"img2.jpeg\"\n",
        "original_image = Image.open(image_path).convert('L') # Convert to grayscale\n",
        "# Convert the image to a NumPy array and cast to float32\n",
        "img_array = np.array(original_image, dtype=np.float32)\n",
        "# Display the original grayscale image, its dimensions, and matrix values\n",
        "plt.figure(figsize=(8, 4))\n",
        "plt.subplot(1, 3, 1)\n",
        "plt.imshow(img_array, cmap='gray')\n",
        "plt.axis('off')\n",
        "plt.title(f\"Original Image\\nDimensions: {img_array.shape}\")\n",
        "# Add a batch and channel dimension to the image\n",
        "image = tf.expand_dims(tf.expand_dims(img_array, axis=0), axis=-1)\n",
        "\n",
        "# Convolution layer without padding\n",
        "conv_fn = tf.nn.conv2d\n",
        "convolved_image = conv_fn(\n",
        "input=image,\n",
        "filters=kernel,\n",
        "strides=1,\n",
        "padding='SAME',\n",
        ")\n",
        "# ReLU activation\n",
        "relu_image = tf.nn.relu(convolved_image)\n",
        "# Plot the convolved image\n",
        "plt.subplot(1, 3, 2)\n",
        "plt.imshow(tf.squeeze(convolved_image), cmap='gray')\n",
        "plt.axis('off')\n",
        "plt.title('After Convolution (With Padding)')\n",
        "# Plot the image after ReLU activation\n",
        "plt.subplot(1, 3, 3)\n",
        "plt.imshow(tf.squeeze(relu_image), cmap='gray')\n",
        "plt.axis('off')\n",
        "plt.title('After ReLU Activation')\n",
        "plt.show()\n",
        "# Print the matrix values before and after convolution\n",
        "print(\"Original Image Matrix Values:\")\n",
        "print(img_array)\n",
        "print(\"\\nAfter Convolution Matrix Values (No Padding):\")\n",
        "print(tf.squeeze(convolved_image).numpy())\n",
        "print(\"\\nAfter ReLU Activation Matrix Values:\")\n",
        "print(tf.squeeze(relu_image).numpy())\n",
        "\n",
        "\n"
      ],
      "metadata": {
        "colab": {
          "base_uri": "https://localhost:8080/",
          "height": 610
        },
        "outputId": "857dabea-5833-4a5e-ddcc-0b131d2b2997",
        "id": "MtRredz-o82s"
      },
      "execution_count": 53,
      "outputs": [
        {
          "output_type": "display_data",
          "data": {
            "text/plain": [
              "<Figure size 800x400 with 3 Axes>"
            ],
            "image/png": "[encoded data removed]"
          },
          "metadata": {}
        },
        {
          "output_type": "stream",
          "name": "stdout",
          "text": [
            "Original Image Matrix Values:\n",
            "[[201. 242. 173.  90.  40.]\n",
            " [167. 206. 149.  85.  42.]\n",
            " [130. 166. 127.  91.  60.]\n",
            " [105. 137. 113. 101.  79.]\n",
            " [ 95. 120. 104. 103.  81.]]\n",
            "\n",
            "After Convolution Matrix Values (No Padding):\n",
            "[[ 993. 1040.  612.  231.  103.]\n",
            " [ 391.  293.   12.  -92.  -30.]\n",
            " [ 259.  194.  -32.  -28.   82.]\n",
            " [ 192.  136.  -45.   50.  196.]\n",
            " [ 398.  406.  258.  346.  365.]]\n",
            "\n",
            "After ReLU Activation Matrix Values:\n",
            "[[ 993. 1040.  612.  231.  103.]\n",
            " [ 391.  293.   12.    0.    0.]\n",
            " [ 259.  194.    0.    0.   82.]\n",
            " [ 192.  136.    0.   50.  196.]\n",
            " [ 398.  406.  258.  346.  365.]]\n"
          ]
        }
      ]
    },
    {
      "cell_type": "code",
      "source": [
        "from PIL import Image\n",
        "import numpy as np\n",
        "import tensorflow as tf\n",
        "import matplotlib.pyplot as plt\n",
        "# Set the params for plotting\n",
        "plt.rc('figure', autolayout=True)\n",
        "plt.rc('image', cmap='magma')\n",
        "# Define the kernel\n",
        "kernel = tf.constant([[-1, -1, -1],\n",
        "[-1, 8, -1],\n",
        "[-1, -1, -1]], dtype=tf.float32)\n",
        "# Add a channel dimension to the kernel\n",
        "kernel = tf.expand_dims(tf.expand_dims(kernel, axis=-1), axis=-1)\n",
        "# Load the image\n",
        "image_path = \"img2.jpeg\"\n",
        "original_image = Image.open(image_path).convert('L') # Convert to grayscale\n",
        "# Convert the image to a NumPy array and cast to float32\n",
        "img_array = np.array(original_image, dtype=np.float32)\n",
        "# Display the original grayscale image, its dimensions, and matrix values\n",
        "plt.figure(figsize=(10, 4))\n",
        "plt.subplot(1, 4, 1)\n",
        "plt.imshow(img_array, cmap='gray')\n",
        "plt.axis('off')\n",
        "plt.title(f\"Original Image\\nDimensions: {img_array.shape}\")\n",
        "# Add a batch and channel dimension to the image\n",
        "image = tf.expand_dims(tf.expand_dims(img_array, axis=0), axis=-1)\n",
        "\n",
        "# Convolution layer with padding\n",
        "conv_fn = tf.nn.conv2d\n",
        "convolved_image = conv_fn(\n",
        "input=image,\n",
        "filters=kernel,\n",
        "strides=1,\n",
        "padding='SAME',\n",
        ")\n",
        "# ReLU activation\n",
        "relu_image = tf.nn.relu(convolved_image)\n",
        "\n",
        "# Max pooling\n",
        "pooled_image = tf.nn.max_pool(\n",
        "input=relu_image,\n",
        "ksize=2,\n",
        "strides=2,\n",
        "padding='SAME',\n",
        ")\n",
        "\n",
        "# Plot the convolved image\n",
        "plt.subplot(1, 4, 2)\n",
        "plt.imshow(tf.squeeze(convolved_image), cmap='gray')\n",
        "plt.axis('off')\n",
        "plt.title('After Convolution ( Padding)')\n",
        "# Plot the image after ReLU activation\n",
        "plt.subplot(1, 4, 3)\n",
        "plt.imshow(tf.squeeze(relu_image), cmap='gray')\n",
        "plt.axis('off')\n",
        "plt.title('After ReLU Activation')\n",
        "\n",
        "# Plot the image after Max Pooling\n",
        "plt.subplot(1, 4, 4)\n",
        "plt.imshow(pooled_image[0, :, :, 0], cmap='gray') # Assuming batch size is 1\n",
        "plt.axis('off')\n",
        "plt.title('After Max Pooling')\n",
        "plt.show()\n",
        "# Print the matrix values before and after convolution\n",
        "print(\"Original Image Matrix Values:\")\n",
        "print(img_array)\n",
        "print(\"\\nAfter Convolution Matrix Values (With Padding):\")\n",
        "print(tf.squeeze(convolved_image).numpy())\n",
        "print(\"\\nAfter ReLU Activation Matrix Values:\")\n",
        "print(tf.squeeze(relu_image).numpy())\n",
        "print(\"\\nAfter Max Pooling Matrix Values:\")\n",
        "print(tf.squeeze(pooled_image).numpy())"
      ],
      "metadata": {
        "colab": {
          "base_uri": "https://localhost:8080/",
          "height": 638
        },
        "outputId": "16b9ae09-d09e-4b72-cf62-1ce07fa66c7e",
        "id": "5UPzuu54piGQ"
      },
      "execution_count": 54,
      "outputs": [
        {
          "output_type": "display_data",
          "data": {
            "text/plain": [
              "<Figure size 1000x400 with 4 Axes>"
            ],
            "image/png": "[encoded data removed]"
          },
          "metadata": {}
        },
        {
          "output_type": "stream",
          "name": "stdout",
          "text": [
            "Original Image Matrix Values:\n",
            "[[201. 242. 173.  90.  40.]\n",
            " [167. 206. 149.  85.  42.]\n",
            " [130. 166. 127.  91.  60.]\n",
            " [105. 137. 113. 101.  79.]\n",
            " [ 95. 120. 104. 103.  81.]]\n",
            "\n",
            "After Convolution Matrix Values (With Padding):\n",
            "[[ 993. 1040.  612.  231.  103.]\n",
            " [ 391.  293.   12.  -92.  -30.]\n",
            " [ 259.  194.  -32.  -28.   82.]\n",
            " [ 192.  136.  -45.   50.  196.]\n",
            " [ 398.  406.  258.  346.  365.]]\n",
            "\n",
            "After ReLU Activation Matrix Values:\n",
            "[[ 993. 1040.  612.  231.  103.]\n",
            " [ 391.  293.   12.    0.    0.]\n",
            " [ 259.  194.    0.    0.   82.]\n",
            " [ 192.  136.    0.   50.  196.]\n",
            " [ 398.  406.  258.  346.  365.]]\n",
            "\n",
            "After Max Pooling Matrix Values:\n",
            "[[1040.  612.  103.]\n",
            " [ 259.   50.  196.]\n",
            " [ 406.  346.  365.]]\n"
          ]
        }
      ]
    },
    {
      "cell_type": "code",
      "source": [
        "import numpy as np\n",
        "from numpy.lib.stride_tricks import as_strided\n",
        "\n",
        "def pool2d(A, kernel_size, stride, padding=0, pool_mode='max'):\n",
        "  A = np.pad(A, padding, mode='constant')\n",
        "  output_shape = ((A.shape[0] - kernel_size) // stride + 1,\n",
        "                    (A.shape[1] - kernel_size) // stride + 1)\n",
        "  shape_w = (output_shape[0], output_shape[1], kernel_size, kernel_size)\n",
        "  strides_w = (stride*A.strides[0], stride*A.strides[1], A.strides[0], A.strides[1])\n",
        "  A_w = as_strided(A, shape_w, strides_w)\n",
        "\n",
        "  if pool_mode == 'max':\n",
        "    return A_w.max(axis=(2, 3))\n",
        "  elif pool_mode == 'avg':\n",
        "        return A_w.mean(axis=(2, 3))"
      ],
      "metadata": {
        "id": "3juFngLUNPLa"
      },
      "execution_count": null,
      "outputs": []
    },
    {
      "cell_type": "code",
      "source": [
        "A = np.array([[1010, 1031,  597,  223, 103],\n",
        " [ 394,  294,  18,   0,  0],\n",
        " [ 233,  195,   0,   0,   73],\n",
        " [ 154., 139,    0,   69,  183],\n",
        " [ 356,  408,  283,  371, 355]])\n",
        "\n",
        "pool2d(A, kernel_size=2, stride=2, padding=0, pool_mode='max')"
      ],
      "metadata": {
        "colab": {
          "base_uri": "https://localhost:8080/"
        },
        "id": "rvCa5k9XQi_x",
        "outputId": "3961e928-b778-46f9-81ec-6a9bb2a6572e"
      },
      "execution_count": null,
      "outputs": [
        {
          "output_type": "execute_result",
          "data": {
            "text/plain": [
              "array([[1031.,  597.],\n",
              "       [ 233.,   69.]])"
            ]
          },
          "metadata": {},
          "execution_count": 133
        }
      ]
    },
    {
      "cell_type": "code",
      "source": [],
      "metadata": {
        "id": "s9zSmzXKiQpa"
      },
      "execution_count": null,
      "outputs": []
    },
    {
      "cell_type": "code",
      "source": [
        "\n",
        "\n",
        "# Max pooling1\n",
        "pooled_image1 = tf.nn.max_pool(\n",
        "input=relu_image,\n",
        "ksize=2,\n",
        "strides=2,\n",
        "padding='SAME',\n",
        ")\n",
        "\n",
        "#Max pooling2\n",
        "pooled_image2 = tf.nn.max_pool(\n",
        "input=pooled_image1,\n",
        "ksize=2,\n",
        "strides=2,\n",
        "padding='SAME',\n",
        ")\n",
        "\n",
        "#Max pooling3\n",
        "pooled_image3 = tf.nn.max_pool(\n",
        "input=pooled_image2,\n",
        "ksize=2,\n",
        "strides=2,\n",
        "padding='SAME',\n",
        ")\n",
        "\n",
        "# Flatten the output of max pooling\n",
        "flattened_output = tf.reshape(pooled_image3, (pooled_image3.shape[0], -1))\n",
        "\n",
        "#Fully connected layer with specified weights and biases\n",
        "fc_weights = tf.constant([[0.5], [0.5] ]) # Example weights\n",
        "fc_biases = tf.constant([1.0, 0.5  ]) # Example biases\n",
        "fc_layer = tf.keras.layers.Dense(units=2, activation=None, use_bias=True)\n",
        "fc_layer.build((None, flattened_output.shape[1])) # Build the layer with correct input shape\n",
        "\n",
        "fc_layer.set_weights([fc_weights.numpy().T, fc_biases.numpy()]) # Transpose weights\n",
        "\n",
        "# Softmax activation\n",
        "softmax_layer = tf.keras.layers.Softmax()\n",
        "softmax_output = softmax_layer(fc_layer(flattened_output))\n",
        "\n",
        "plt.title('After Max Pooling')\n",
        "# Plot the image after Fully Connected layer\n",
        "plt.subplot(1, 5, 5)\n",
        "plt.imshow(softmax_output.numpy(), cmap='gray') # Display the output of the softmax layer\n",
        "plt.axis('off')\n",
        "plt.title('After Softmax Layer')\n",
        "plt.show()\n",
        "\n",
        "print(\"\\nMax Pooling Matrix Values After Pooled Image 1:\")\n",
        "print(pooled_image1[0, :, :, 0].numpy())\n",
        "\n",
        "print(\"\\nMax Pooling Matrix Values After Pooled Image 2:\")\n",
        "print(pooled_image2[0, :, :, 0].numpy())\n",
        "\n",
        "print(\"\\nMax Pooling Matrix Values After Pooled Image 3:\")\n",
        "\n",
        "print(pooled_image3[0, :, :, 0].numpy())\n",
        "print(\"\\nFully Connected Layer Output Values:\")\n",
        "print(fc_layer(flattened_output).numpy())\n",
        "\n",
        "print(\"\\nSoftmax Output Values:\")\n",
        "print(softmax_output.numpy())"
      ],
      "metadata": {
        "colab": {
          "base_uri": "https://localhost:8080/",
          "height": 481
        },
        "outputId": "824dcf91-3a49-4961-b8d1-9cfd4321b79a",
        "id": "i71auk9Pf5KX"
      },
      "execution_count": 56,
      "outputs": [
        {
          "output_type": "stream",
          "name": "stderr",
          "text": [
            "<ipython-input-56-8c5fe5c96d39>:42: MatplotlibDeprecationWarning: Auto-removal of overlapping axes is deprecated since 3.6 and will be removed two minor releases later; explicitly call ax.remove() as needed.\n",
            "  plt.subplot(1, 5, 5)\n"
          ]
        },
        {
          "output_type": "display_data",
          "data": {
            "text/plain": [
              "<Figure size 640x480 with 1 Axes>"
            ],
            "image/png": "[encoded data removed]"
          },
          "metadata": {}
        },
        {
          "output_type": "stream",
          "name": "stdout",
          "text": [
            "\n",
            "Max Pooling Matrix Values After Pooled Image 1:\n",
            "[[1040.  612.  103.]\n",
            " [ 259.   50.  196.]\n",
            " [ 406.  346.  365.]]\n",
            "\n",
            "Max Pooling Matrix Values After Pooled Image 2:\n",
            "[[1040.  196.]\n",
            " [ 406.  365.]]\n",
            "\n",
            "Max Pooling Matrix Values After Pooled Image 3:\n",
            "[[1040.]]\n",
            "\n",
            "Fully Connected Layer Output Values:\n",
            "[[521.  520.5]]\n",
            "\n",
            "Softmax Output Values:\n",
            "[[0.62245935 0.37754068]]\n"
          ]
        }
      ]
    },
    {
      "cell_type": "code",
      "source": [
        "from PIL import Image\n",
        "import numpy as np\n",
        "import tensorflow as tf\n",
        "import matplotlib.pyplot as plt\n",
        "# Set the params for plotting\n",
        "plt.rc('figure', autolayout=True)\n",
        "plt.rc('image', cmap='magma')\n",
        "# Define the kernel\n",
        "kernel = tf.constant([[-1, -1, -1],\n",
        "[-1, 8, -1],\n",
        "[-1, -1, -1]], dtype=tf.float32)\n",
        "# Add a channel dimension to the kernel\n",
        "kernel = tf.expand_dims(tf.expand_dims(kernel, axis=-1), axis=-1)\n",
        "# Load the image\n",
        "image_path = \"img2.jpeg\"\n",
        "original_image = Image.open(image_path).convert('L') # Convert to grayscale\n",
        "# Convert the image to a NumPy array and cast to float32\n",
        "img_array = np.array(original_image, dtype=np.float32)\n",
        "# Display the original grayscale image, its dimensions, and matrix values\n",
        "plt.figure(figsize=(8, 4))\n",
        "plt.subplot(1, 3, 1)\n",
        "plt.imshow(img_array, cmap='gray')\n",
        "plt.axis('off')\n",
        "plt.title(f\"Original Image\\nDimensions: {img_array.shape}\")\n",
        "# Add a batch and channel dimension to the image\n",
        "image = tf.expand_dims(tf.expand_dims(img_array, axis=0), axis=-1)\n",
        "\n",
        "# Convolution layer without padding\n",
        "conv_fn = tf.nn.conv2d\n",
        "convolved_image = conv_fn(\n",
        "input=image,\n",
        "filters=kernel,\n",
        "strides=1,\n",
        "padding='VALID',\n",
        ")\n",
        "# ReLU activation\n",
        "relu_image = tf.nn.relu(convolved_image)\n",
        "# Plot the convolved image\n",
        "plt.subplot(1, 3, 2)\n",
        "plt.imshow(tf.squeeze(convolved_image), cmap='gray')\n",
        "plt.axis('off')\n",
        "plt.title('After Convolution (No Padding)')\n",
        "# Plot the image after ReLU activation\n",
        "plt.subplot(1, 3, 3)\n",
        "plt.imshow(tf.squeeze(relu_image), cmap='gray')\n",
        "plt.axis('off')\n",
        "plt.title('After ReLU Activation')\n",
        "plt.show()\n",
        "# Print the matrix values before and after convolution\n",
        "print(\"Original Image Matrix Values:\")\n",
        "print(img_array)\n",
        "print(\"\\nAfter Convolution Matrix Values (No Padding):\")\n",
        "print(tf.squeeze(convolved_image).numpy())\n",
        "print(\"\\nAfter ReLU Activation Matrix Values:\")\n",
        "print(tf.squeeze(relu_image).numpy())\n",
        "\n",
        "\n"
      ],
      "metadata": {
        "colab": {
          "base_uri": "https://localhost:8080/",
          "height": 488
        },
        "id": "FKKdLogkTqig",
        "outputId": "42219e26-5757-464d-df34-a6a601f4d3d4"
      },
      "execution_count": 48,
      "outputs": [
        {
          "output_type": "display_data",
          "data": {
            "text/plain": [
              "<Figure size 800x400 with 3 Axes>"
            ],
            "image/png": "[encoded data removed]"
          },
          "metadata": {}
        },
        {
          "output_type": "stream",
          "name": "stdout",
          "text": [
            "Original Image Matrix Values:\n",
            "[[212. 211. 120.  49.]\n",
            " [159. 170. 102.  48.]\n",
            " [122. 147. 107.  73.]\n",
            " [ 98. 128. 105.  83.]]\n",
            "\n",
            "After Convolution Matrix Values (No Padding):\n",
            "[[ 180. -109.]\n",
            " [ 185.    0.]]\n",
            "\n",
            "After ReLU Activation Matrix Values:\n",
            "[[180.   0.]\n",
            " [185.   0.]]\n"
          ]
        }
      ]
    },
    {
      "cell_type": "code",
      "source": [
        "# Max pooling\n",
        "pooled_image = tf.nn.max_pool(\n",
        "input=relu_image,\n",
        "ksize=2,\n",
        "strides=2,\n",
        "padding='VALID',\n",
        ")\n",
        "plt.subplot(1, 4, 4)\n",
        "plt.imshow(pooled_image[0, :, :, 0], cmap='gray')\n",
        "plt.axis('off')\n",
        "plt.title('After Max Pooling')\n",
        "plt.show()\n",
        "\n",
        "print(\"\\nAfter Max Pooling Matrix Values:\")\n",
        "print(tf.squeeze(pooled_image).numpy())"
      ],
      "metadata": {
        "colab": {
          "base_uri": "https://localhost:8080/",
          "height": 252
        },
        "id": "STn-Uf37UDxb",
        "outputId": "b3d2bcf1-0720-4361-dbff-97fa4a752810"
      },
      "execution_count": 49,
      "outputs": [
        {
          "output_type": "display_data",
          "data": {
            "text/plain": [
              "<Figure size 640x480 with 1 Axes>"
            ],
            "image/png": "[encoded data removed]"
          },
          "metadata": {}
        },
        {
          "output_type": "stream",
          "name": "stdout",
          "text": [
            "\n",
            "After Max Pooling Matrix Values:\n",
            "185.0\n"
          ]
        }
      ]
    },
    {
      "cell_type": "code",
      "source": [
        "\n",
        "# Flatten the output of max pooling\n",
        "flattened_output = tf.reshape(pooled_image, (pooled_image.shape[0], -1))\n",
        "# Fully connected layer with specified weights and biases\n",
        "fc_weights = tf.constant([[0.5], [0.5]]) # Example weights\n",
        "fc_biases = tf.constant([1.0, 0.5]) # Example biases\n",
        "fc_layer = tf.keras.layers.Dense(units=2, activation=None, use_bias=True)\n",
        "fc_layer.build((None, flattened_output.shape[1])) # Build the layer with correct input shape\n",
        "fc_layer.set_weights([fc_weights.numpy().T, fc_biases.numpy()]) # Transpose weights\n",
        "# Softmax activation\n",
        "softmax_layer = tf.keras.layers.Softmax()\n",
        "softmax_output = softmax_layer(fc_layer(flattened_output))\n",
        "\n",
        "# Plot the image after Fully Connected layer\n",
        "plt.subplot(1, 5, 5)\n",
        "plt.imshow(softmax_output.numpy(), cmap='gray') # Display the output of the softmax layer\n",
        "plt.axis('off')\n",
        "plt.title('After Softmax Layer')\n",
        "plt.show()\n",
        "\n",
        "print(\"\\nFully Connected Layer Output Values:\")\n",
        "print(fc_layer(flattened_output).numpy())\n",
        "print(\"\\nSoftmax Output Values:\")\n",
        "print(softmax_output.numpy())"
      ],
      "metadata": {
        "id": "FUNGsRlIpf75",
        "colab": {
          "base_uri": "https://localhost:8080/",
          "height": 218
        },
        "outputId": "7eafadb6-89cd-40ad-9540-32a8e698ff85"
      },
      "execution_count": 50,
      "outputs": [
        {
          "output_type": "display_data",
          "data": {
            "text/plain": [
              "<Figure size 640x480 with 1 Axes>"
            ],
            "image/png": "[encoded data removed]"
          },
          "metadata": {}
        },
        {
          "output_type": "stream",
          "name": "stdout",
          "text": [
            "\n",
            "Fully Connected Layer Output Values:\n",
            "[[93.5 93. ]]\n",
            "\n",
            "Softmax Output Values:\n",
            "[[0.62245935 0.37754068]]\n"
          ]
        }
      ]
    },
    {
      "cell_type": "code",
      "source": [],
      "metadata": {
        "id": "b28mIsZkUc1R"
      },
      "execution_count": null,
      "outputs": []
    },
    {
      "cell_type": "code",
      "source": [],
      "metadata": {
        "id": "Bx9DUQt-cEah"
      },
      "execution_count": null,
      "outputs": []
    }
  ]
}